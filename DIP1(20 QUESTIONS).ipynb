{
 "cells": [
  {
   "cell_type": "code",
   "execution_count": 1,
   "id": "ed0906c1-7529-41c8-b015-575d871c0ea3",
   "metadata": {},
   "outputs": [
    {
     "name": "stdout",
     "output_type": "stream",
     "text": [
      "Twinkle, twinkle, little star,\n",
      "      How I wonder what you are!\n",
      "            Up above the world so high,\n",
      "            Like a diamond in the sky.\n",
      "Twinkle, twinkle, little star,\n",
      "       How I wonder what you are\n"
     ]
    }
   ],
   "source": [
    "def print_twinkle_song():\n",
    "    lines = [\n",
    "        \"Twinkle, twinkle, little star,\",\n",
    "        \"      How I wonder what you are!\",\n",
    "        \"            Up above the world so high,\",\n",
    "        \"            Like a diamond in the sky.\",\n",
    "        \"Twinkle, twinkle, little star,\",\n",
    "        \"       How I wonder what you are\"\n",
    "    ]\n",
    "\n",
    "    for line in lines:\n",
    "        print(line)\n",
    "print_twinkle_song()\n"
   ]
  },
  {
   "cell_type": "code",
   "execution_count": 2,
   "id": "4f37fa9f-e629-474f-9b93-235d64a11391",
   "metadata": {},
   "outputs": [
    {
     "name": "stdout",
     "output_type": "stream",
     "text": [
      "Python version: 3.12.4\n"
     ]
    }
   ],
   "source": [
    "import platform\n",
    "\n",
    "def get_python_version():\n",
    "    print(\"Python version:\", platform.python_version())\n",
    "\n",
    "get_python_version()"
   ]
  },
  {
   "cell_type": "code",
   "execution_count": 3,
   "id": "cc19fda0-11ab-4a96-8478-217e8bd692bf",
   "metadata": {},
   "outputs": [
    {
     "name": "stdout",
     "output_type": "stream",
     "text": [
      "Current date and time: 2024-10-01 12:38:02.084642\n"
     ]
    }
   ],
   "source": [
    "import datetime\n",
    "\n",
    "def display_date_and_time():\n",
    "    current_date_time = datetime.datetime.now()\n",
    "    print(\"Current date and time:\", current_date_time)\n",
    "\n",
    "display_date_and_time()"
   ]
  },
  {
   "cell_type": "code",
   "execution_count": 4,
   "id": "caf12b62-e430-47b2-8619-9aa61cb75667",
   "metadata": {},
   "outputs": [
    {
     "name": "stdin",
     "output_type": "stream",
     "text": [
      "Enter radius: 22\n"
     ]
    },
    {
     "name": "stdout",
     "output_type": "stream",
     "text": [
      "Area : 1520.53084433746\n"
     ]
    }
   ],
   "source": [
    "import math\n",
    "def calc_cir_area():\n",
    "    r = int(input(\"Enter radius:\"))\n",
    "    area = math.pi *(r ** 2)\n",
    "    print(\"Area :\", area)\n",
    "calc_cir_area()\n"
   ]
  },
  {
   "cell_type": "code",
   "execution_count": 5,
   "id": "85d80371-6dfc-444d-8621-b74a3ffa1fa5",
   "metadata": {},
   "outputs": [
    {
     "name": "stdin",
     "output_type": "stream",
     "text": [
      "Enter First name:  sree\n",
      "Enter  Last name:  k\n"
     ]
    },
    {
     "name": "stdout",
     "output_type": "stream",
     "text": [
      "k sree\n"
     ]
    }
   ],
   "source": [
    "def reverse_names():\n",
    "    first_name = input(\"Enter First name: \")\n",
    "    last_name = input(\"Enter  Last name: \")\n",
    "    print(last_name + \" \" + first_name)\n",
    "\n",
    "reverse_names()"
   ]
  },
  {
   "cell_type": "code",
   "execution_count": 6,
   "id": "e9a5dedf-cc8d-4655-bf36-8cf98950d745",
   "metadata": {},
   "outputs": [
    {
     "name": "stdin",
     "output_type": "stream",
     "text": [
      "Enter comma-separated numbers:  1,2,3,4,5\n"
     ]
    },
    {
     "name": "stdout",
     "output_type": "stream",
     "text": [
      "List: ['1,2,3,4,5']\n",
      "Tuple: ('1,2,3,4,5',)\n"
     ]
    }
   ],
   "source": [
    "def generate_list_and_tuple():\n",
    "    numbers_str = input(\"Enter comma-separated numbers: \")\n",
    "    numbers_list = numbers_str.split(', ')\n",
    "    numbers_tuple = tuple(numbers_list)\n",
    "    print(\"List:\", numbers_list)\n",
    "    print(\"Tuple:\", numbers_tuple)\n",
    "\n",
    "generate_list_and_tuple()"
   ]
  },
  {
   "cell_type": "code",
   "execution_count": 7,
   "id": "79d6855b-93c5-49fb-bbf1-9a2cdc29e147",
   "metadata": {},
   "outputs": [
    {
     "name": "stdin",
     "output_type": "stream",
     "text": [
      "Enter the filename:  example1.txt\n"
     ]
    },
    {
     "name": "stdout",
     "output_type": "stream",
     "text": [
      "File extension: txt\n"
     ]
    }
   ],
   "source": [
    "import os\n",
    "\n",
    "def get_file_extension():\n",
    "    filename = input(\"Enter the filename: \")\n",
    "    file_extension = os.path.splitext(filename)[1][1:]\n",
    "    print(\"File extension:\", file_extension)\n",
    "\n",
    "get_file_extension()"
   ]
  },
  {
   "cell_type": "code",
   "execution_count": 8,
   "id": "0e25b20c-e6bd-4541-a1e0-64ea8b7c7761",
   "metadata": {},
   "outputs": [
    {
     "name": "stdout",
     "output_type": "stream",
     "text": [
      "First colour: Red\n",
      "Last colour: Black\n"
     ]
    }
   ],
   "source": [
    "colour_list = [\"Red\",\"Green\",\"White\" ,\"Black\"]\n",
    "\n",
    "def display_first_and_last_colours():\n",
    "    print(\"First colour:\", colour_list[0])\n",
    "    print(\"Last colour:\", colour_list[-1])\n",
    "\n",
    "display_first_and_last_colours()"
   ]
  },
  {
   "cell_type": "code",
   "execution_count": 9,
   "id": "0b5d6877-6cac-4084-b7bb-7a92043f277a",
   "metadata": {},
   "outputs": [
    {
     "name": "stdin",
     "output_type": "stream",
     "text": [
      "Enter  day :  22\n",
      "Enter  month :  04\n",
      "Enter  year :  2004\n"
     ]
    },
    {
     "name": "stdout",
     "output_type": "stream",
     "text": [
      "The examination will start from: 22 / 4 / 2004\n"
     ]
    }
   ],
   "source": [
    "def get_exam_start_date():\n",
    "    day = int(input(\"Enter  day : \"))\n",
    "    month = int(input(\"Enter  month : \"))\n",
    "    year = int(input(\"Enter  year : \"))\n",
    "    return day, month, year\n",
    "\n",
    "def display_exam_schedule(date):\n",
    "    month = date[1]\n",
    "    day = date[0]\n",
    "    year = date[2]\n",
    "    print(f\"The examination will start from: {day} / {month} / {year}\")\n",
    "\n",
    "exam_start_date = get_exam_start_date()\n",
    "display_exam_schedule(exam_start_date)"
   ]
  },
  {
   "cell_type": "code",
   "execution_count": 10,
   "id": "2512faec-e1c2-422f-841f-013641eafe19",
   "metadata": {},
   "outputs": [
    {
     "name": "stdin",
     "output_type": "stream",
     "text": [
      "Enter an integer:  2004\n"
     ]
    },
    {
     "name": "stdout",
     "output_type": "stream",
     "text": [
      "The result is: 200440086012\n"
     ]
    }
   ],
   "source": [
    "def compute_value(n):\n",
    "    return n + int(str(n) * 2) + int(str(n) * 3)\n",
    "\n",
    "try:\n",
    "    n = int(input(\"Enter an integer: \"))\n",
    "    print(\"The result is:\", compute_value(n))\n",
    "except ValueError:\n",
    "    print(\"Please enter a valid integer.\")"
   ]
  },
  {
   "cell_type": "code",
   "execution_count": 11,
   "id": "e7381889-f25c-4d85-bf45-e511aa743c26",
   "metadata": {},
   "outputs": [
    {
     "name": "stdin",
     "output_type": "stream",
     "text": [
      "Enter numbers:  1 5 4 6\n"
     ]
    },
    {
     "name": "stdout",
     "output_type": "stream",
     "text": [
      "All numbers are different.\n"
     ]
    }
   ],
   "source": [
    "def are_all_numbers_unique(sequence):\n",
    "    return len(set(sequence)) == len(sequence)\n",
    "\n",
    "\n",
    "def main():\n",
    "    user_input = input(\"Enter numbers: \")\n",
    "    try:\n",
    "        number_sequence = list(map(int, user_input.split()))\n",
    "    except ValueError:\n",
    "        print(\"enter only valid integers.\")\n",
    "        return\n",
    "    if are_all_numbers_unique(number_sequence):\n",
    "        print(\"All numbers are different.\")\n",
    "    else:\n",
    "        print(\"There are similar numbers.\")\n",
    "\n",
    "if __name__ == \"__main__\":\n",
    "    main()"
   ]
  },
  {
   "cell_type": "code",
   "execution_count": 12,
   "id": "73da8ad4-46e6-428c-a64c-873a793138dd",
   "metadata": {},
   "outputs": [
    {
     "name": "stdout",
     "output_type": "stream",
     "text": [
      "['aeioI', 'aeiIo', 'aeoiI', 'aeoIi', 'aeIio', 'aeIoi', 'aieoI', 'aieIo', 'aioeI', 'aioIe', 'aiIeo', 'aiIoe', 'aoeiI', 'aoeIi', 'aoieI', 'aoiIe', 'aoIei', 'aoIie', 'aIeio', 'aIeoi', 'aIieo', 'aIioe', 'aIoei', 'aIoie', 'eaioI', 'eaiIo', 'eaoiI', 'eaoIi', 'eaIio', 'eaIoi', 'eiaoI', 'eiaIo', 'eioaI', 'eioIa', 'eiIao', 'eiIoa', 'eoaiI', 'eoaIi', 'eoiaI', 'eoiIa', 'eoIai', 'eoIia', 'eIaio', 'eIaoi', 'eIiao', 'eIioa', 'eIoai', 'eIoia', 'iaeoI', 'iaeIo', 'iaoeI', 'iaoIe', 'iaIeo', 'iaIoe', 'ieaoI', 'ieaIo', 'ieoaI', 'ieoIa', 'ieIao', 'ieIoa', 'ioaeI', 'ioaIe', 'ioeaI', 'ioeIa', 'ioIae', 'ioIea', 'iIaeo', 'iIaoe', 'iIeao', 'iIeoa', 'iIoae', 'iIoea', 'oaeiI', 'oaeIi', 'oaieI', 'oaiIe', 'oaIei', 'oaIie', 'oeaiI', 'oeaIi', 'oeiaI', 'oeiIa', 'oeIai', 'oeIia', 'oiaeI', 'oiaIe', 'oieaI', 'oieIa', 'oiIae', 'oiIea', 'oIaei', 'oIaie', 'oIeai', 'oIeia', 'oIiae', 'oIiea', 'Iaeio', 'Iaeoi', 'Iaieo', 'Iaioe', 'Iaoei', 'Iaoie', 'Ieaio', 'Ieaoi', 'Ieiao', 'Ieioa', 'Ieoai', 'Ieoia', 'Iiaeo', 'Iiaoe', 'Iieao', 'Iieoa', 'Iioae', 'Iioea', 'Ioaei', 'Ioaie', 'Ioeai', 'Ioeia', 'Ioiae', 'Ioiea']\n"
     ]
    }
   ],
   "source": [
    "import itertools\n",
    "\n",
    "def create_all_possible_strings():\n",
    "    vowels = ['a', 'e', 'i', 'o', 'I']\n",
    "    all_strings = [''.join(p) for p in itertools.permutations(vowels)]\n",
    "    return all_strings\n",
    "\n",
    "print(create_all_possible_strings())"
   ]
  },
  {
   "cell_type": "code",
   "execution_count": 13,
   "id": "436c0186-8954-45e2-af2f-5b86706c1b42",
   "metadata": {},
   "outputs": [
    {
     "name": "stdin",
     "output_type": "stream",
     "text": [
      "Enter a list of numbers separated by spaces:  1 3 4 5 6\n"
     ]
    },
    {
     "name": "stdout",
     "output_type": "stream",
     "text": [
      "Removing: 4\n",
      "Removing: 1\n",
      "Removing: 6\n",
      "Removing: 3\n",
      "Removing: 5\n",
      "Final list (should be empty): []\n"
     ]
    }
   ],
   "source": [
    "user_input = input(\"Enter a list of numbers separated by spaces: \")\n",
    "try:\n",
    "    numbers = [int(num) for num in user_input.split()]\n",
    "except ValueError:\n",
    "    print(\"Please enter only valid integers.\")\n",
    "    exit()\n",
    "\n",
    "index = 2\n",
    "while numbers:\n",
    "    index %= len(numbers)\n",
    "    print(f\"Removing: {numbers[index]}\")\n",
    "    numbers.pop(index)\n",
    "    index += 2\n",
    "\n",
    "print(\"Final list (should be empty):\", numbers)\n"
   ]
  },
  {
   "cell_type": "code",
   "execution_count": 14,
   "id": "207b223c-6878-4c26-9c0c-8029bb8df073",
   "metadata": {},
   "outputs": [
    {
     "name": "stdout",
     "output_type": "stream",
     "text": [
      "Original list: [1, -1, 2, -2, 3, -3, 4, -4, 5, -5]\n",
      "Triplets with zero sum: [(1, 2, -3), (1, 3, -4), (1, 4, -5), (-1, -2, 3), (-1, -3, 4), (-1, -4, 5), (2, 3, -5), (-2, -3, 5)]\n"
     ]
    }
   ],
   "source": [
    "def find_triplets_with_zero_sum(numbers):\n",
    "    triplets = []\n",
    "    for i in range(len(numbers)):\n",
    "        for j in range(i + 1, len(numbers)):\n",
    "            for k in range(j + 1, len(numbers)):\n",
    "                if numbers[i] + numbers[j] + numbers[k] == 0:\n",
    "                    triplets.append((numbers[i], numbers[j], numbers[k]))\n",
    "    return triplets\n",
    "\n",
    "numbers = [1, -1, 2, -2, 3, -3, 4, -4, 5, -5]\n",
    "print(\"Original list:\", numbers)\n",
    "triplets = find_triplets_with_zero_sum(numbers)\n",
    "print(\"Triplets with zero sum:\", triplets)"
   ]
  },
  {
   "cell_type": "code",
   "execution_count": 15,
   "id": "d2832c44-1ec0-42f6-8a2d-6ec06812c868",
   "metadata": {},
   "outputs": [
    {
     "name": "stdout",
     "output_type": "stream",
     "text": [
      "'when': 1\n",
      "'describing': 1\n",
      "'a': 2\n",
      "'column': 1\n",
      "'graph': 1\n",
      "'it': 1\n",
      "'is': 1\n",
      "'important': 1\n",
      "'as': 1\n",
      "'with': 1\n",
      "'line': 1\n",
      "'graphs': 1\n",
      "'to': 1\n",
      "'look': 1\n",
      "'for': 1\n",
      "'trend': 1\n"
     ]
    }
   ],
   "source": [
    "import re\n",
    "from collections import Counter\n",
    "\n",
    "def word_frequency(text):\n",
    "    words = re.findall(r'\\b\\w+\\b', text.lower())\n",
    "    word_count = Counter(words)\n",
    "    return word_count\n",
    "\n",
    "text = \"when describing  a column graph, it is important, as with line graphs, to look for a trend.\"\n",
    "word_freq = word_frequency(text)\n",
    "\n",
    "for word, count in word_freq.items():\n",
    "    print(f\"'{word}': {count}\")"
   ]
  },
  {
   "cell_type": "code",
   "execution_count": 16,
   "id": "bb06201f-d78a-4ea1-9c69-559a1a4fe1cc",
   "metadata": {},
   "outputs": [
    {
     "name": "stdout",
     "output_type": "stream",
     "text": [
      "Character counts:\n",
      "'U': 1\n",
      "'s': 18\n",
      "'u': 7\n",
      "'a': 17\n",
      "'l': 8\n",
      "'y': 5\n",
      "',': 1\n",
      "' ': 39\n",
      "'i': 14\n",
      "'n': 12\n",
      "'t': 10\n",
      "'e': 17\n",
      "'r': 8\n",
      "'v': 5\n",
      "'w': 3\n",
      "'k': 4\n",
      "'p': 5\n",
      "'z': 4\n",
      "'o': 15\n",
      "'h': 5\n",
      "'g': 6\n",
      "'b': 4\n",
      "'c': 5\n",
      "'m': 4\n",
      "'.': 2\n",
      "'M': 1\n",
      "'d': 3\n"
     ]
    }
   ],
   "source": [
    "def count_characters(filename):\n",
    "    char_count = {}\n",
    "\n",
    "    try:\n",
    "        with open(filename, 'r') as file:\n",
    "            content = file.read()\n",
    "            for char in content:\n",
    "                if char in char_count:\n",
    "                    char_count[char] += 1\n",
    "                else:\n",
    "                    char_count[char] = 1\n",
    "        print(\"Character counts:\")\n",
    "        for char, count in char_count.items():\n",
    "            print(f\"'{char}': {count}\")\n",
    "\n",
    "    except FileNotFoundError:\n",
    "        print(\"not found.\")\n",
    "filename = 'example1.txt'\n",
    "count_characters(filename)\n"
   ]
  },
  {
   "cell_type": "code",
   "execution_count": 17,
   "id": "9af51c2b-b850-43c0-81b6-498e6e75890b",
   "metadata": {},
   "outputs": [
    {
     "name": "stdout",
     "output_type": "stream",
     "text": [
      "(0,)\n",
      "(1,)\n",
      "(2,)\n",
      "(3,)\n",
      "(4,)\n",
      "(0, 1)\n",
      "(0, 2)\n",
      "(0, 3)\n",
      "(0, 4)\n",
      "(1, 2)\n",
      "(1, 3)\n",
      "(1, 4)\n",
      "(2, 3)\n",
      "(2, 4)\n",
      "(3, 4)\n",
      "(0, 1, 2)\n",
      "(0, 1, 3)\n",
      "(0, 1, 4)\n",
      "(0, 2, 3)\n",
      "(0, 2, 4)\n",
      "(0, 3, 4)\n",
      "(1, 2, 3)\n",
      "(1, 2, 4)\n",
      "(1, 3, 4)\n",
      "(2, 3, 4)\n"
     ]
    }
   ],
   "source": [
    "from itertools import combinations\n",
    "\n",
    "def generate_combinations(n):\n",
    "    for r in range(1, n + 1):\n",
    "        for combination in combinations(range(5), r):\n",
    "            print(combination)\n",
    "\n",
    "generate_combinations(3)"
   ]
  },
  {
   "cell_type": "code",
   "execution_count": 18,
   "id": "5a52dede-d793-41fd-9cd1-48b6e78b60f4",
   "metadata": {},
   "outputs": [
    {
     "name": "stdout",
     "output_type": "stream",
     "text": [
      "Title :  GIFT Nifty down 5 points; here's the trading setup for today's session - The Economic Times\n",
      "Link :  https://news.google.com/rss/articles/CBMizAFBVV95cUxQdmQxZFZBMUhvVTZfTlE1OVVxeHBDNW04ZjBiN1dUclV2NUFEd2lDVFdCRkRVUmNlbGpFWDFCNlpyNkNDRXpLTGZGMGtTSTVxRV90V29qZzFHeU5wRDBBUHdLZGl6QkhiQnd3ZTNFRmF3Ri1MNXVPRUFweEFfaFFhMEJaQzF5V1loWDFQcGJEMVh5NXZlTnhIM2pXRzJjZ2ozQmxVMENfSUFrQUdYakIwZThWTUxHX19WbTJjeHpDbE5oVGEwSXVWbXpRdkTSAdIBQVVfeXFMT0ZMMnJhUE54Q3NWSEhXRXd3NDNhVjRqWUhCMWVRaFdEd3RnOUthZGFzNE40LW1uVnVlT1N2TmxKWVc4dmhJX0xla2JIdXFwbTJuNmFtdWo1RlkyY2NDNXVpUjRwUTBCdUZLV0FJMl9VV1JUc0phaUlNV242cWc1c2xBLWFOQXNpN2dOZGVTcmlqc0JZSVI4cHRYaXJaWlN0U05TYVBRWkoxX2Jjejd0QVJ4NHptQThVMVNfOURyR2JicVpRR2NGTE5CeG5aV09DTjFn?oc=5\n",
      "\n",
      "Title :  SEBI board meeting: Slew of decisions announced but mum on Madhabi Puri Buch and F&O framework - Moneycontrol\n",
      "Link :  https://news.google.com/rss/articles/CBMi6AFBVV95cUxNb1dWT0pTWE9zbHVMRW41bGRzS2M2OHk4aFN4ODJDSUw2M21FSGJ3aUd2cnhZYWFLbEFSOEI3WXJpSklfU1FVUnA2b0pucDIwUGJ5MVRWZjk4c1hHUDdSR1AyMW8tNU5oRlJtMTVDaFU2THRiaFRfenZOUVpqSnVUUmtwci1zeGQzUzdVWnNPOXFjSVZzTkNGNm5qdkFGV3l2Xy1NQUt3XzlpZlVxUnJvOGJQTS1uTEZRRGZoaXZ1bVgwUHQzSXd4d0x4Xzc3Rk5FREh2NDZtTjFIcF81RU9fNzZrU0hvdnU40gHuAUFVX3lxTE9oME1Ib0FGM0pFOE9JM25XMndYemZJeEdUbHE2OHNwNmVlTG94OWVpeW5WWXNzbjBvWlJyOHFnd2EybmlrN25fZ2ltTm51NmdZNjFVWm9uUnhvdmtheDdVc3hscHN1djFwQ0pnRmxsOFhWbkdPbzhSOU5qTWNIbzJZRGpSMDBzRzI2Y1lOVVo5NXVWOGNURHNDYks0LWswSG5KY2YzQ0Zhd055d05rQy15Ql9xUzV2X2o5TktsUVZkbkxDTUV6dTFkczBGTXRmVThUTkNHZ01hdHU1U3c0TFNaXzVYNEkzTTFnVTUwMEE?oc=5\n",
      "\n",
      "Title :  Sony Pictures CEO Tony Vinciquerra to step down; Ravi Ahuja named successor | Company Business News - Mint\n",
      "Link :  https://news.google.com/rss/articles/CBMi4wFBVV95cUxQdi1BaHRZM09JYmxvRU1IcE0tLUVPNk1UU2duTzA0WEZncS02N3ZfSWhINjc3YjZmNV9RemRqbDlReEFhdXF0YVlPNVBjTTg4MEkyV2l5Q2Z3Sk0xMWFXY19pUjdiM2IzeHZlczItaFNITDVMSVBVZHpMWWNiNEtZNVdhVmdxWW5Sd2pQRkg2LXpfaUVYTTN5MWxYekVaYkhXZmJWbVV4dTZNTGd0NTJnc2tTdFJnVEsyRy1oV3hCR2N2Y1RQMXAwcUdqWVpLSE0zb00wZV9tbXExY0xQam1Sa0lWa9IB6AFBVV95cUxOc19ncTFCTGxPTGg1aGkzaGlQc21nV1ctcTBiVHQ1S2pJU0lRbzRVb2ZxdHJlN09yN0JiUEktSTVoOEEwaDRmdEFaYXdEMU9TU3VTUjhma0NpeFZiOWtiVnRGTFMwX01lekM3ZDAxZXFqS254YUVGSFNUXzlpbHJSd3FCT0NVQXhMUExfZTMwSWcyUkJVM0ZDOHQ2ZzFVOXUzdXhYUXUzNW1oMzFWN0t0X0FwU2Uya0dHUUNVckdjNDYwRjNUMUhkVUk2T2VPSjlNT1JvVlpKTzFiNTFVdmV0ZXRiNU1QazZH?oc=5\n",
      "\n"
     ]
    }
   ],
   "source": [
    "from gnewsclient import gnewsclient\n",
    "\n",
    "client = gnewsclient.NewsClient(language='english',\n",
    "                                location='india',\n",
    "                                topic='business',\n",
    "                                max_results=3)\n",
    "news_list = client.get_news()\n",
    "\n",
    "for item in news_list:\n",
    "    print(\"Title : \", item['title'])\n",
    "    print(\"Link : \", item['link'])\n",
    "    print(\"\")"
   ]
  },
  {
   "cell_type": "code",
   "execution_count": 19,
   "id": "615b6719-f156-4d4c-8547-11010951431d",
   "metadata": {},
   "outputs": [
    {
     "name": "stdout",
     "output_type": "stream",
     "text": [
      "Installed packages:\n",
      "Package                           Version\n",
      "--------------------------------- ------------------\n",
      "aext-assistant                    4.0.15\n",
      "aext-assistant-server             4.0.15\n",
      "aext-core                         4.0.15\n",
      "aext-core-server                  4.0.15\n",
      "aext-panels                       4.0.15\n",
      "aext-panels-server                4.0.15\n",
      "aext-share-notebook               4.0.15\n",
      "aext-share-notebook-server        4.0.15\n",
      "aext-shared                       4.0.15\n",
      "aiobotocore                       2.12.3\n",
      "aiohttp                           3.9.5\n",
      "aioitertools                      0.7.1\n",
      "aiosignal                         1.2.0\n",
      "alabaster                         0.7.16\n",
      "altair                            5.0.1\n",
      "anaconda-anon-usage               0.4.4\n",
      "anaconda-catalogs                 0.2.0\n",
      "anaconda-client                   1.12.3\n",
      "anaconda-cloud-auth               0.5.1\n",
      "anaconda-navigator                2.6.0\n",
      "anaconda-project                  0.11.1\n",
      "annotated-types                   0.6.0\n",
      "anyio                             4.2.0\n",
      "appdirs                           1.4.4\n",
      "archspec                          0.2.3\n",
      "argon2-cffi                       21.3.0\n",
      "argon2-cffi-bindings              21.2.0\n",
      "arrow                             1.2.3\n",
      "astroid                           2.14.2\n",
      "astropy                           6.1.0\n",
      "astropy-iers-data                 0.2024.6.3.0.31.14\n",
      "asttokens                         2.0.5\n",
      "async-lru                         2.0.4\n",
      "atomicwrites                      1.4.0\n",
      "attrs                             23.1.0\n",
      "Automat                           20.2.0\n",
      "autopep8                          2.0.4\n",
      "Babel                             2.11.0\n",
      "bcrypt                            3.2.0\n",
      "beautifulsoup4                    4.12.3\n",
      "binaryornot                       0.4.4\n",
      "black                             24.4.2\n",
      "bleach                            4.1.0\n",
      "blinker                           1.6.2\n",
      "bokeh                             3.4.1\n",
      "boltons                           23.0.0\n",
      "botocore                          1.34.69\n",
      "Bottleneck                        1.3.7\n",
      "Brotli                            1.0.9\n",
      "cachetools                        5.3.3\n",
      "certifi                           2024.7.4\n",
      "cffi                              1.16.0\n",
      "chardet                           4.0.0\n",
      "charset-normalizer                2.0.4\n",
      "click                             8.1.7\n",
      "cloudpickle                       2.2.1\n",
      "colorama                          0.4.6\n",
      "colorcet                          3.1.0\n",
      "comm                              0.2.1\n",
      "conda                             24.7.1\n",
      "conda-build                       24.5.1\n",
      "conda-content-trust               0.2.0\n",
      "conda_index                       0.5.0\n",
      "conda-libmamba-solver             24.1.0\n",
      "conda-pack                        0.7.1\n",
      "conda-package-handling            2.3.0\n",
      "conda_package_streaming           0.10.0\n",
      "conda-repo-cli                    1.0.88\n",
      "conda-token                       0.5.0+1.g2209e04\n",
      "constantly                        23.10.4\n",
      "contourpy                         1.2.0\n",
      "cookiecutter                      2.6.0\n",
      "cryptography                      42.0.5\n",
      "cssselect                         1.2.0\n",
      "cycler                            0.11.0\n",
      "cytoolz                           0.12.2\n",
      "dask                              2024.5.0\n",
      "dask-expr                         1.1.0\n",
      "datashader                        0.16.2\n",
      "debugpy                           1.6.7\n",
      "decorator                         5.1.1\n",
      "defusedxml                        0.7.1\n",
      "diff-match-patch                  20200713\n",
      "dill                              0.3.8\n",
      "distributed                       2024.5.0\n",
      "distro                            1.9.0\n",
      "docstring-to-markdown             0.11\n",
      "docutils                          0.18.1\n",
      "entrypoints                       0.4\n",
      "et-xmlfile                        1.1.0\n",
      "executing                         0.8.3\n",
      "fastjsonschema                    2.16.2\n",
      "feedparser                        6.0.11\n",
      "filelock                          3.13.1\n",
      "flake8                            7.0.0\n",
      "Flask                             3.0.3\n",
      "fonttools                         4.51.0\n",
      "fqdn                              1.5.1\n",
      "frozendict                        2.4.2\n",
      "frozenlist                        1.4.0\n",
      "fsspec                            2024.3.1\n",
      "fuzzywuzzy                        0.18.0\n",
      "gensim                            4.3.2\n",
      "gitdb                             4.0.7\n",
      "GitPython                         3.1.37\n",
      "gnewsclient                       1.12\n",
      "greenlet                          3.0.1\n",
      "h11                               0.14.0\n",
      "h5py                              3.11.0\n",
      "HeapDict                          1.0.1\n",
      "holoviews                         1.19.0\n",
      "httpcore                          1.0.2\n",
      "httpx                             0.27.0\n",
      "hvplot                            0.10.0\n",
      "hyperlink                         21.0.0\n",
      "idna                              3.7\n",
      "imagecodecs                       2023.1.23\n",
      "imageio                           2.33.1\n",
      "imagesize                         1.4.1\n",
      "imbalanced-learn                  0.12.3\n",
      "importlib-metadata                7.0.1\n",
      "incremental                       22.10.0\n",
      "inflection                        0.5.1\n",
      "iniconfig                         1.1.1\n",
      "intake                            0.7.0\n",
      "intervaltree                      3.1.0\n",
      "ipykernel                         6.28.0\n",
      "ipython                           8.25.0\n",
      "ipython-genutils                  0.2.0\n",
      "ipywidgets                        7.8.1\n",
      "isoduration                       20.11.0\n",
      "isort                             5.13.2\n",
      "itemadapter                       0.3.0\n",
      "itemloaders                       1.1.0\n",
      "itsdangerous                      2.2.0\n",
      "jaraco.classes                    3.2.1\n",
      "jedi                              0.18.1\n",
      "jellyfish                         1.0.1\n",
      "Jinja2                            3.1.4\n",
      "jmespath                          1.0.1\n",
      "joblib                            1.4.2\n",
      "json5                             0.9.6\n",
      "jsonpatch                         1.33\n",
      "jsonpointer                       2.1\n",
      "jsonschema                        4.19.2\n",
      "jsonschema-specifications         2023.7.1\n",
      "jupyter                           1.0.0\n",
      "jupyter_client                    8.6.0\n",
      "jupyter-console                   6.6.3\n",
      "jupyter_core                      5.7.2\n",
      "jupyter-events                    0.10.0\n",
      "jupyter-lsp                       2.2.0\n",
      "jupyter_server                    2.14.1\n",
      "jupyter_server_terminals          0.4.4\n",
      "jupyterlab                        4.0.11\n",
      "jupyterlab-pygments               0.1.2\n",
      "jupyterlab_server                 2.25.1\n",
      "jupyterlab-widgets                1.0.0\n",
      "keyring                           24.3.1\n",
      "kiwisolver                        1.4.4\n",
      "lazy_loader                       0.4\n",
      "lazy-object-proxy                 1.10.0\n",
      "lckr_jupyterlab_variableinspector 3.1.0\n",
      "Levenshtein                       0.26.0\n",
      "libarchive-c                      2.9\n",
      "libmambapy                        1.5.8\n",
      "linkify-it-py                     2.0.0\n",
      "llvmlite                          0.42.0\n",
      "lmdb                              1.4.1\n",
      "locket                            1.0.0\n",
      "lxml                              5.2.1\n",
      "lz4                               4.3.2\n",
      "Markdown                          3.4.1\n",
      "markdown-it-py                    2.2.0\n",
      "MarkupSafe                        2.1.3\n",
      "matplotlib                        3.8.4\n",
      "matplotlib-inline                 0.1.6\n",
      "mccabe                            0.7.0\n",
      "mdit-py-plugins                   0.3.0\n",
      "mdurl                             0.1.0\n",
      "menuinst                          2.1.1\n",
      "mistune                           2.0.4\n",
      "mkl-fft                           1.3.8\n",
      "mkl-random                        1.2.4\n",
      "mkl-service                       2.4.0\n",
      "more-itertools                    10.1.0\n",
      "mpmath                            1.3.0\n",
      "msgpack                           1.0.3\n",
      "multidict                         6.0.4\n",
      "multipledispatch                  0.6.0\n",
      "mypy                              1.10.0\n",
      "mypy-extensions                   1.0.0\n",
      "navigator-updater                 0.5.1\n",
      "nbclient                          0.8.0\n",
      "nbconvert                         7.10.0\n",
      "nbformat                          5.9.2\n",
      "nest-asyncio                      1.6.0\n",
      "networkx                          3.2.1\n",
      "nltk                              3.8.1\n",
      "notebook                          7.0.8\n",
      "notebook_shim                     0.2.3\n",
      "numba                             0.59.1\n",
      "numexpr                           2.8.7\n",
      "numpy                             1.26.4\n",
      "numpydoc                          1.7.0\n",
      "opencv-python                     4.10.0.84\n",
      "openpyxl                          3.1.2\n",
      "overrides                         7.4.0\n",
      "packaging                         23.2\n",
      "pandas                            2.2.2\n",
      "pandocfilters                     1.5.0\n",
      "panel                             1.4.4\n",
      "param                             2.1.0\n",
      "paramiko                          2.8.1\n",
      "parsel                            1.8.1\n",
      "parso                             0.8.3\n",
      "partd                             1.4.1\n",
      "pathspec                          0.10.3\n",
      "patsy                             0.5.6\n",
      "pexpect                           4.8.0\n",
      "pickleshare                       0.7.5\n",
      "pillow                            10.3.0\n",
      "pip                               24.0\n",
      "pkce                              1.0.3\n",
      "pkginfo                           1.10.0\n",
      "platformdirs                      3.10.0\n",
      "plotly                            5.22.0\n",
      "pluggy                            1.0.0\n",
      "ply                               3.11\n",
      "prometheus-client                 0.14.1\n",
      "prompt-toolkit                    3.0.43\n",
      "Protego                           0.1.16\n",
      "protobuf                          3.20.3\n",
      "psutil                            5.9.0\n",
      "ptyprocess                        0.7.0\n",
      "pure-eval                         0.2.2\n",
      "py-cpuinfo                        9.0.0\n",
      "pyarrow                           14.0.2\n",
      "pyasn1                            0.4.8\n",
      "pyasn1-modules                    0.2.8\n",
      "pycodestyle                       2.11.1\n",
      "pycosat                           0.6.6\n",
      "pycparser                         2.21\n",
      "pyct                              0.5.0\n",
      "pycurl                            7.45.2\n",
      "pydantic                          2.5.3\n",
      "pydantic_core                     2.14.6\n",
      "pydeck                            0.8.0\n",
      "PyDispatcher                      2.0.5\n",
      "pydocstyle                        6.3.0\n",
      "pyerfa                            2.0.1.4\n",
      "pyflakes                          3.2.0\n",
      "Pygments                          2.15.1\n",
      "PyJWT                             2.8.0\n",
      "pylint                            2.16.2\n",
      "pylint-venv                       3.0.3\n",
      "pyls-spyder                       0.4.0\n",
      "PyNaCl                            1.5.0\n",
      "pyodbc                            5.0.1\n",
      "pyOpenSSL                         24.0.0\n",
      "pyparsing                         3.0.9\n",
      "PyQt5                             5.15.10\n",
      "PyQt5-sip                         12.13.0\n",
      "PyQtWebEngine                     5.15.6\n",
      "PySocks                           1.7.1\n",
      "pytest                            7.4.4\n",
      "python-dateutil                   2.9.0.post0\n",
      "python-dotenv                     0.21.0\n",
      "python-json-logger                2.0.7\n",
      "python-Levenshtein                0.26.0\n",
      "python-lsp-black                  2.0.0\n",
      "python-lsp-jsonrpc                1.1.2\n",
      "python-lsp-server                 1.10.0\n",
      "python-slugify                    5.0.2\n",
      "python-snappy                     0.6.1\n",
      "pytoolconfig                      1.2.6\n",
      "pytz                              2024.1\n",
      "pyviz_comms                       3.0.2\n",
      "pywavelets                        1.5.0\n",
      "pywin32                           305.1\n",
      "pywin32-ctypes                    0.2.2\n",
      "pywinpty                          2.0.10\n",
      "PyYAML                            6.0.1\n",
      "pyzmq                             25.1.2\n",
      "QDarkStyle                        3.2.3\n",
      "qstylizer                         0.2.2\n",
      "QtAwesome                         1.2.2\n",
      "qtconsole                         5.5.1\n",
      "QtPy                              2.4.1\n",
      "queuelib                          1.6.2\n",
      "RapidFuzz                         3.10.0\n",
      "referencing                       0.30.2\n",
      "regex                             2023.10.3\n",
      "requests                          2.32.2\n",
      "requests-file                     1.5.1\n",
      "requests-toolbelt                 1.0.0\n",
      "rfc3339-validator                 0.1.4\n",
      "rfc3986-validator                 0.1.1\n",
      "rich                              13.3.5\n",
      "rope                              1.12.0\n",
      "rpds-py                           0.10.6\n",
      "Rtree                             1.0.1\n",
      "ruamel.yaml                       0.17.21\n",
      "ruamel-yaml-conda                 0.17.21\n",
      "s3fs                              2024.3.1\n",
      "scikit-image                      0.23.2\n",
      "scikit-learn                      1.4.2\n",
      "scipy                             1.13.1\n",
      "Scrapy                            2.11.1\n",
      "seaborn                           0.13.2\n",
      "semver                            3.0.2\n",
      "Send2Trash                        1.8.2\n",
      "service-identity                  18.1.0\n",
      "setuptools                        69.5.1\n",
      "sgmllib3k                         1.0.0\n",
      "sip                               6.7.12\n",
      "six                               1.16.0\n",
      "smart-open                        5.2.1\n",
      "smmap                             4.0.0\n",
      "sniffio                           1.3.0\n",
      "snowballstemmer                   2.2.0\n",
      "sortedcontainers                  2.4.0\n",
      "soupsieve                         2.5\n",
      "Sphinx                            7.3.7\n",
      "sphinxcontrib-applehelp           1.0.2\n",
      "sphinxcontrib-devhelp             1.0.2\n",
      "sphinxcontrib-htmlhelp            2.0.0\n",
      "sphinxcontrib-jsmath              1.0.1\n",
      "sphinxcontrib-qthelp              1.0.3\n",
      "sphinxcontrib-serializinghtml     1.1.10\n",
      "spyder                            5.5.1\n",
      "spyder-kernels                    2.5.0\n",
      "SQLAlchemy                        2.0.30\n",
      "stack-data                        0.2.0\n",
      "statsmodels                       0.14.2\n",
      "streamlit                         1.32.0\n",
      "sympy                             1.12\n",
      "tables                            3.9.2\n",
      "tabulate                          0.9.0\n",
      "tblib                             1.7.0\n",
      "tenacity                          8.2.2\n",
      "terminado                         0.17.1\n",
      "text-unidecode                    1.3\n",
      "textdistance                      4.2.1\n",
      "threadpoolctl                     2.2.0\n",
      "three-merge                       0.1.1\n",
      "tifffile                          2023.4.12\n",
      "tinycss2                          1.2.1\n",
      "tldextract                        3.2.0\n",
      "toml                              0.10.2\n",
      "tomli                             2.0.1\n",
      "tomlkit                           0.11.1\n",
      "toolz                             0.12.0\n",
      "tornado                           6.4.1\n",
      "tqdm                              4.66.4\n",
      "traitlets                         5.14.3\n",
      "truststore                        0.8.0\n",
      "Twisted                           23.10.0\n",
      "twisted-iocpsupport               1.0.2\n",
      "typing_extensions                 4.11.0\n",
      "tzdata                            2023.3\n",
      "uc-micro-py                       1.0.1\n",
      "ujson                             5.10.0\n",
      "unicodedata2                      15.1.0\n",
      "Unidecode                         1.2.0\n",
      "uri-template                      1.3.0\n",
      "urllib3                           2.2.2\n",
      "w3lib                             2.1.2\n",
      "watchdog                          4.0.1\n",
      "wcwidth                           0.2.5\n",
      "webcolors                         24.8.0\n",
      "webencodings                      0.5.1\n",
      "websocket-client                  1.8.0\n",
      "Werkzeug                          3.0.3\n",
      "whatthepatch                      1.0.2\n",
      "wheel                             0.43.0\n",
      "widgetsnbextension                3.6.6\n",
      "win-inet-pton                     1.1.0\n",
      "wrapt                             1.14.1\n",
      "xarray                            2023.6.0\n",
      "xlwings                           0.31.4\n",
      "xyzservices                       2022.9.0\n",
      "yapf                              0.40.2\n",
      "yarl                              1.9.3\n",
      "zict                              3.0.0\n",
      "zipp                              3.17.0\n",
      "zope.interface                    5.4.0\n",
      "zstandard                         0.22.0\n",
      "\n"
     ]
    }
   ],
   "source": [
    "import subprocess\n",
    "\n",
    "def list_installed_packages():\n",
    "    result = subprocess.run(['pip', 'list'], stdout=subprocess.PIPE, text=True)\n",
    "    return result.stdout\n",
    "\n",
    "print(\"Installed packages:\")\n",
    "print(list_installed_packages())\n"
   ]
  },
  {
   "cell_type": "code",
   "execution_count": 20,
   "id": "a4a4748b-2def-446c-a759-3a93ca1c3e28",
   "metadata": {},
   "outputs": [
    {
     "name": "stdout",
     "output_type": "stream",
     "text": [
      "operating system: Windows\n",
      "os version: 11\n",
      "machine AMD64\n",
      "processor AMD64 Family 23 Model 24 Stepping 1, AuthenticAMD\n"
     ]
    }
   ],
   "source": [
    "import platform\n",
    "def get_os_info():\n",
    "    print(\"operating system:\", platform.system())\n",
    "    print(\"os version:\", platform.release())\n",
    "    print(\"machine\", platform.machine())\n",
    "    print(\"processor\", platform.processor())\n",
    "get_os_info()"
   ]
  },
  {
   "cell_type": "code",
   "execution_count": null,
   "id": "f6572ff3-13a6-4af4-8758-9f4f2bf19e77",
   "metadata": {},
   "outputs": [],
   "source": []
  }
 ],
 "metadata": {
  "kernelspec": {
   "display_name": "Python 3 (ipykernel)",
   "language": "python",
   "name": "python3"
  },
  "language_info": {
   "codemirror_mode": {
    "name": "ipython",
    "version": 3
   },
   "file_extension": ".py",
   "mimetype": "text/x-python",
   "name": "python",
   "nbconvert_exporter": "python",
   "pygments_lexer": "ipython3",
   "version": "3.12.4"
  }
 },
 "nbformat": 4,
 "nbformat_minor": 5
}
